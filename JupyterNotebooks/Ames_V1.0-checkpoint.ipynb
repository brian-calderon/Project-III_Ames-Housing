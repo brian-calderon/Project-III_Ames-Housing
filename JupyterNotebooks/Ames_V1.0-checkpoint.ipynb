{
 "cells": [
  {
   "cell_type": "markdown",
   "metadata": {},
   "source": [
    "## Random Tips:\n",
    "Display the docstring of a function: Shift+Tab\n",
    "\n",
    "Commeting: Ctrl + /\n",
    "\n",
    "type() checks variable type\n",
    "\n",
    "axis = 0 \"rows\" 1 \"columns\""
   ]
  },
  {
   "cell_type": "markdown",
   "metadata": {},
   "source": [
    "### Load Libraries"
   ]
  },
  {
   "cell_type": "code",
   "execution_count": 1,
   "metadata": {},
   "outputs": [],
   "source": [
    "import numpy as np\n",
    "import pandas as pd\n",
    "from sklearn.feature_selection import f_regression, mutual_info_regression\n",
    "from sklearn.linear_model import LinearRegression\n",
    "from sklearn.model_selection import GridSearchCV, KFold, StratifiedKFold, train_test_split\n",
    "from IPython.display import display, HTML\n",
    "import matplotlib.pyplot as plt\n",
    "import seaborn as sns\n",
    "from scipy.stats import skew\n",
    "import math as mt\n"
   ]
  },
  {
   "cell_type": "markdown",
   "metadata": {},
   "source": [
    "## Global Params"
   ]
  },
  {
   "cell_type": "code",
   "execution_count": 2,
   "metadata": {},
   "outputs": [],
   "source": [
    "# sound_file = '../data/Beep.mp3'"
   ]
  },
  {
   "cell_type": "markdown",
   "metadata": {},
   "source": [
    "## Global Funcs"
   ]
  },
  {
   "cell_type": "code",
   "execution_count": 3,
   "metadata": {},
   "outputs": [],
   "source": [
    "def speak(text):\n",
    "    from IPython.display import Javascript as js, clear_output\n",
    "    # Escape single quotes\n",
    "    text = text.replace(\"'\", r\"\\'\")\n",
    "    display(js('''\n",
    "    if(window.speechSynthesis) {{\n",
    "        var synth = window.speechSynthesis;\n",
    "        synth.speak(new window.SpeechSynthesisUtterance('{text}'));\n",
    "    }}\n",
    "    '''.format(text=text)))\n",
    "    # Clear the JS so that the notebook doesn't speak again when reopened/refreshed\n",
    "    clear_output(False)"
   ]
  },
  {
   "cell_type": "markdown",
   "metadata": {},
   "source": [
    "### Read in the CSV files"
   ]
  },
  {
   "cell_type": "code",
   "execution_count": 4,
   "metadata": {},
   "outputs": [
    {
     "name": "stdout",
     "output_type": "stream",
     "text": [
      "(2580, 81)\n"
     ]
    },
    {
     "data": {
      "text/html": [
       "<div>\n",
       "<style scoped>\n",
       "    .dataframe tbody tr th:only-of-type {\n",
       "        vertical-align: middle;\n",
       "    }\n",
       "\n",
       "    .dataframe tbody tr th {\n",
       "        vertical-align: top;\n",
       "    }\n",
       "\n",
       "    .dataframe thead th {\n",
       "        text-align: right;\n",
       "    }\n",
       "</style>\n",
       "<table border=\"1\" class=\"dataframe\">\n",
       "  <thead>\n",
       "    <tr style=\"text-align: right;\">\n",
       "      <th></th>\n",
       "      <th>PID</th>\n",
       "      <th>GrLivArea</th>\n",
       "      <th>SalePrice</th>\n",
       "      <th>MSSubClass</th>\n",
       "      <th>MSZoning</th>\n",
       "      <th>LotFrontage</th>\n",
       "      <th>LotArea</th>\n",
       "      <th>Street</th>\n",
       "      <th>Alley</th>\n",
       "      <th>LotShape</th>\n",
       "      <th>...</th>\n",
       "      <th>ScreenPorch</th>\n",
       "      <th>PoolArea</th>\n",
       "      <th>PoolQC</th>\n",
       "      <th>Fence</th>\n",
       "      <th>MiscFeature</th>\n",
       "      <th>MiscVal</th>\n",
       "      <th>MoSold</th>\n",
       "      <th>YrSold</th>\n",
       "      <th>SaleType</th>\n",
       "      <th>SaleCondition</th>\n",
       "    </tr>\n",
       "  </thead>\n",
       "  <tbody>\n",
       "    <tr>\n",
       "      <th>1</th>\n",
       "      <td>909176150</td>\n",
       "      <td>856</td>\n",
       "      <td>126000</td>\n",
       "      <td>30</td>\n",
       "      <td>RL</td>\n",
       "      <td>NaN</td>\n",
       "      <td>7890</td>\n",
       "      <td>Pave</td>\n",
       "      <td>NaN</td>\n",
       "      <td>Reg</td>\n",
       "      <td>...</td>\n",
       "      <td>166</td>\n",
       "      <td>0</td>\n",
       "      <td>NaN</td>\n",
       "      <td>NaN</td>\n",
       "      <td>NaN</td>\n",
       "      <td>0</td>\n",
       "      <td>3</td>\n",
       "      <td>2010</td>\n",
       "      <td>WD</td>\n",
       "      <td>Normal</td>\n",
       "    </tr>\n",
       "    <tr>\n",
       "      <th>2</th>\n",
       "      <td>905476230</td>\n",
       "      <td>1049</td>\n",
       "      <td>139500</td>\n",
       "      <td>120</td>\n",
       "      <td>RL</td>\n",
       "      <td>42.0</td>\n",
       "      <td>4235</td>\n",
       "      <td>Pave</td>\n",
       "      <td>NaN</td>\n",
       "      <td>Reg</td>\n",
       "      <td>...</td>\n",
       "      <td>0</td>\n",
       "      <td>0</td>\n",
       "      <td>NaN</td>\n",
       "      <td>NaN</td>\n",
       "      <td>NaN</td>\n",
       "      <td>0</td>\n",
       "      <td>2</td>\n",
       "      <td>2009</td>\n",
       "      <td>WD</td>\n",
       "      <td>Normal</td>\n",
       "    </tr>\n",
       "    <tr>\n",
       "      <th>3</th>\n",
       "      <td>911128020</td>\n",
       "      <td>1001</td>\n",
       "      <td>124900</td>\n",
       "      <td>30</td>\n",
       "      <td>C (all)</td>\n",
       "      <td>60.0</td>\n",
       "      <td>6060</td>\n",
       "      <td>Pave</td>\n",
       "      <td>NaN</td>\n",
       "      <td>Reg</td>\n",
       "      <td>...</td>\n",
       "      <td>0</td>\n",
       "      <td>0</td>\n",
       "      <td>NaN</td>\n",
       "      <td>NaN</td>\n",
       "      <td>NaN</td>\n",
       "      <td>0</td>\n",
       "      <td>11</td>\n",
       "      <td>2007</td>\n",
       "      <td>WD</td>\n",
       "      <td>Normal</td>\n",
       "    </tr>\n",
       "    <tr>\n",
       "      <th>4</th>\n",
       "      <td>535377150</td>\n",
       "      <td>1039</td>\n",
       "      <td>114000</td>\n",
       "      <td>70</td>\n",
       "      <td>RL</td>\n",
       "      <td>80.0</td>\n",
       "      <td>8146</td>\n",
       "      <td>Pave</td>\n",
       "      <td>NaN</td>\n",
       "      <td>Reg</td>\n",
       "      <td>...</td>\n",
       "      <td>111</td>\n",
       "      <td>0</td>\n",
       "      <td>NaN</td>\n",
       "      <td>NaN</td>\n",
       "      <td>NaN</td>\n",
       "      <td>0</td>\n",
       "      <td>5</td>\n",
       "      <td>2009</td>\n",
       "      <td>WD</td>\n",
       "      <td>Normal</td>\n",
       "    </tr>\n",
       "    <tr>\n",
       "      <th>5</th>\n",
       "      <td>534177230</td>\n",
       "      <td>1665</td>\n",
       "      <td>227000</td>\n",
       "      <td>60</td>\n",
       "      <td>RL</td>\n",
       "      <td>70.0</td>\n",
       "      <td>8400</td>\n",
       "      <td>Pave</td>\n",
       "      <td>NaN</td>\n",
       "      <td>Reg</td>\n",
       "      <td>...</td>\n",
       "      <td>0</td>\n",
       "      <td>0</td>\n",
       "      <td>NaN</td>\n",
       "      <td>NaN</td>\n",
       "      <td>NaN</td>\n",
       "      <td>0</td>\n",
       "      <td>11</td>\n",
       "      <td>2009</td>\n",
       "      <td>WD</td>\n",
       "      <td>Normal</td>\n",
       "    </tr>\n",
       "  </tbody>\n",
       "</table>\n",
       "<p>5 rows × 81 columns</p>\n",
       "</div>"
      ],
      "text/plain": [
       "         PID  GrLivArea  SalePrice  MSSubClass MSZoning  LotFrontage  LotArea  \\\n",
       "1  909176150        856     126000          30       RL          NaN     7890   \n",
       "2  905476230       1049     139500         120       RL         42.0     4235   \n",
       "3  911128020       1001     124900          30  C (all)         60.0     6060   \n",
       "4  535377150       1039     114000          70       RL         80.0     8146   \n",
       "5  534177230       1665     227000          60       RL         70.0     8400   \n",
       "\n",
       "  Street Alley LotShape  ... ScreenPorch PoolArea PoolQC Fence MiscFeature  \\\n",
       "1   Pave   NaN      Reg  ...         166        0    NaN   NaN         NaN   \n",
       "2   Pave   NaN      Reg  ...           0        0    NaN   NaN         NaN   \n",
       "3   Pave   NaN      Reg  ...           0        0    NaN   NaN         NaN   \n",
       "4   Pave   NaN      Reg  ...         111        0    NaN   NaN         NaN   \n",
       "5   Pave   NaN      Reg  ...           0        0    NaN   NaN         NaN   \n",
       "\n",
       "  MiscVal MoSold YrSold SaleType  SaleCondition  \n",
       "1       0      3   2010      WD          Normal  \n",
       "2       0      2   2009      WD          Normal  \n",
       "3       0     11   2007      WD          Normal  \n",
       "4       0      5   2009      WD          Normal  \n",
       "5       0     11   2009      WD          Normal  \n",
       "\n",
       "[5 rows x 81 columns]"
      ]
     },
     "execution_count": 4,
     "metadata": {},
     "output_type": "execute_result"
    }
   ],
   "source": [
    "# read_csv starts looking in current folder, so you can navigate usiung ../ \n",
    "housing = pd.read_csv('../data/Ames_HousePrice.csv', index_col=0)\n",
    "print(housing.shape)\n",
    "housing.head()"
   ]
  },
  {
   "cell_type": "markdown",
   "metadata": {},
   "source": [
    "### Data Preprocessing"
   ]
  },
  {
   "cell_type": "code",
   "execution_count": 5,
   "metadata": {
    "scrolled": true
   },
   "outputs": [
    {
     "data": {
      "text/plain": [
       "[Text(0, 0, '38'), Text(0, 0, '43')]"
      ]
     },
     "execution_count": 5,
     "metadata": {},
     "output_type": "execute_result"
    },
    {
     "data": {
      "image/png": "[encoded data removed]",
      "text/plain": [
       "<Figure size 432x288 with 1 Axes>"
      ]
     },
     "metadata": {
      "needs_background": "light"
     },
     "output_type": "display_data"
    }
   ],
   "source": [
    "housing.dtypes\n",
    "# select only numeric columns and get the total number of numeric columns (38)\n",
    "num_feat = housing.select_dtypes(np.number)\n",
    "# print(\"numerical features = \",num_feat.shape[1])\n",
    "# select only numeric columns and get the total number of categorical columns (43)\n",
    "cat_feat = housing.select_dtypes(include = ['O'])\n",
    "# print(\"categorical features = \",cat_feat.shape[1])\n",
    "temp_feats = pd.array([num_feat.shape[1],cat_feat.shape[1]])\n",
    "# unpacks the plot into a fig and ax container. \n",
    "# Fig contains the plot which you can save as a picture\n",
    "# ax contains the important stuff, like the axes, legend, type of plot, etc...\n",
    "fig, ax = plt.subplots()  \n",
    "p1 = ax.bar(['Num','Cat'], temp_feats) # create a barplot\n",
    "ax.set_xlabel('Feature Type')\n",
    "ax.set_ylabel('# of Features')\n",
    "ax.bar_label(p1, temp_feats)\n",
    "# Displays the entire table. .head() will omit columns for very long tables. Uses IPython.display library\n",
    "# display(HTML(h_num.to_html()))"
   ]
  },
  {
   "cell_type": "code",
   "execution_count": 6,
   "metadata": {},
   "outputs": [
    {
     "name": "stdout",
     "output_type": "stream",
     "text": [
      "Index(['LotFrontage', 'MasVnrArea', 'BsmtFinSF1', 'BsmtFinSF2', 'BsmtUnfSF',\n",
      "       'TotalBsmtSF', 'BsmtFullBath', 'BsmtHalfBath', 'GarageYrBlt',\n",
      "       'GarageCars', 'GarageArea'],\n",
      "      dtype='object')\n"
     ]
    }
   ],
   "source": [
    "print(num_feat.columns[num_feat.isna().any()]) #Print all colums that have NA values for h_num"
   ]
  },
  {
   "cell_type": "code",
   "execution_count": 7,
   "metadata": {},
   "outputs": [
    {
     "data": {
      "text/plain": [
       "Text(0, 0.5, '% Missing')"
      ]
     },
     "execution_count": 7,
     "metadata": {},
     "output_type": "execute_result"
    },
    {
     "data": {
      "image/png": "[encoded data removed]",
      "text/plain": [
       "<Figure size 432x288 with 1 Axes>"
      ]
     },
     "metadata": {
      "needs_background": "light"
     },
     "output_type": "display_data"
    }
   ],
   "source": [
    "miss_numfeats = num_feat.isna().sum().sort_values(ascending = False)*(100/2580)\n",
    "fig, ax = plt.subplots()  \n",
    "p2 = ax.bar(miss_numfeats.index[0:9], miss_numfeats[0:9]) # create a barplot\n",
    "ax.set_title('Top 10 num. feat. with missing values')\n",
    "ax.set_xlabel('Num. Feature')\n",
    "# ax.get_xticks(): gets tick positions of current plot\n",
    "# ax.get_xticklabels(): gets tick labels of current plot\n",
    "ax.set_xticks(ax.get_xticks(), ax.get_xticklabels(), rotation=90, ha='right')\n",
    "ax.set_ylabel('% Missing')"
   ]
  },
  {
   "cell_type": "code",
   "execution_count": 8,
   "metadata": {},
   "outputs": [
    {
     "data": {
      "text/plain": [
       "Text(0, 0.5, '% Missing')"
      ]
     },
     "execution_count": 8,
     "metadata": {},
     "output_type": "execute_result"
    },
    {
     "data": {
      "image/png": "[encoded data removed]",
      "text/plain": [
       "<Figure size 432x288 with 1 Axes>"
      ]
     },
     "metadata": {
      "needs_background": "light"
     },
     "output_type": "display_data"
    }
   ],
   "source": [
    "miss_catfeats = cat_feat.isna().sum().sort_values(ascending = False)*(100/2580)\n",
    "fig, ax = plt.subplots()  \n",
    "p2 = ax.bar(miss_catfeats.index[0:9], miss_catfeats[0:9]) # create a barplot\n",
    "ax.set_title('Top 10 cat. feat. with missing values')\n",
    "ax.set_xlabel('Num. Feature')\n",
    "# ax.get_xticks(): gets tick positions of current plot\n",
    "# ax.get_xticklabels(): gets tick labels of current plot\n",
    "ax.set_xticks(ax.get_xticks(), ax.get_xticklabels(), rotation=90, ha='right')\n",
    "ax.set_ylabel('% Missing')"
   ]
  },
  {
   "cell_type": "code",
   "execution_count": 9,
   "metadata": {},
   "outputs": [
    {
     "name": "stdout",
     "output_type": "stream",
     "text": [
      "[dtype('int64') dtype('O') dtype('float64')]\n"
     ]
    }
   ],
   "source": [
    "# What data types do we have?\n",
    "print(housing.dtypes.unique())"
   ]
  },
  {
   "cell_type": "code",
   "execution_count": 10,
   "metadata": {},
   "outputs": [
    {
     "name": "stdout",
     "output_type": "stream",
     "text": [
      "(2580, 255)\n"
     ]
    },
    {
     "data": {
      "text/html": [
       "<div>\n",
       "<style scoped>\n",
       "    .dataframe tbody tr th:only-of-type {\n",
       "        vertical-align: middle;\n",
       "    }\n",
       "\n",
       "    .dataframe tbody tr th {\n",
       "        vertical-align: top;\n",
       "    }\n",
       "\n",
       "    .dataframe thead th {\n",
       "        text-align: right;\n",
       "    }\n",
       "</style>\n",
       "<table border=\"1\" class=\"dataframe\">\n",
       "  <thead>\n",
       "    <tr style=\"text-align: right;\">\n",
       "      <th></th>\n",
       "      <th>PID</th>\n",
       "      <th>GrLivArea</th>\n",
       "      <th>SalePrice</th>\n",
       "      <th>MSSubClass</th>\n",
       "      <th>LotFrontage</th>\n",
       "      <th>LotArea</th>\n",
       "      <th>OverallQual</th>\n",
       "      <th>OverallCond</th>\n",
       "      <th>YearBuilt</th>\n",
       "      <th>YearRemodAdd</th>\n",
       "      <th>...</th>\n",
       "      <th>SaleType_ConLw</th>\n",
       "      <th>SaleType_New</th>\n",
       "      <th>SaleType_Oth</th>\n",
       "      <th>SaleType_VWD</th>\n",
       "      <th>SaleType_WD</th>\n",
       "      <th>SaleCondition_AdjLand</th>\n",
       "      <th>SaleCondition_Alloca</th>\n",
       "      <th>SaleCondition_Family</th>\n",
       "      <th>SaleCondition_Normal</th>\n",
       "      <th>SaleCondition_Partial</th>\n",
       "    </tr>\n",
       "  </thead>\n",
       "  <tbody>\n",
       "    <tr>\n",
       "      <th>1</th>\n",
       "      <td>909176150</td>\n",
       "      <td>856</td>\n",
       "      <td>126000</td>\n",
       "      <td>30</td>\n",
       "      <td>68.516053</td>\n",
       "      <td>7890</td>\n",
       "      <td>6</td>\n",
       "      <td>6</td>\n",
       "      <td>1939</td>\n",
       "      <td>1950</td>\n",
       "      <td>...</td>\n",
       "      <td>0</td>\n",
       "      <td>0</td>\n",
       "      <td>0</td>\n",
       "      <td>0</td>\n",
       "      <td>1</td>\n",
       "      <td>0</td>\n",
       "      <td>0</td>\n",
       "      <td>0</td>\n",
       "      <td>1</td>\n",
       "      <td>0</td>\n",
       "    </tr>\n",
       "    <tr>\n",
       "      <th>2</th>\n",
       "      <td>905476230</td>\n",
       "      <td>1049</td>\n",
       "      <td>139500</td>\n",
       "      <td>120</td>\n",
       "      <td>42.000000</td>\n",
       "      <td>4235</td>\n",
       "      <td>5</td>\n",
       "      <td>5</td>\n",
       "      <td>1984</td>\n",
       "      <td>1984</td>\n",
       "      <td>...</td>\n",
       "      <td>0</td>\n",
       "      <td>0</td>\n",
       "      <td>0</td>\n",
       "      <td>0</td>\n",
       "      <td>1</td>\n",
       "      <td>0</td>\n",
       "      <td>0</td>\n",
       "      <td>0</td>\n",
       "      <td>1</td>\n",
       "      <td>0</td>\n",
       "    </tr>\n",
       "    <tr>\n",
       "      <th>3</th>\n",
       "      <td>911128020</td>\n",
       "      <td>1001</td>\n",
       "      <td>124900</td>\n",
       "      <td>30</td>\n",
       "      <td>60.000000</td>\n",
       "      <td>6060</td>\n",
       "      <td>5</td>\n",
       "      <td>9</td>\n",
       "      <td>1930</td>\n",
       "      <td>2007</td>\n",
       "      <td>...</td>\n",
       "      <td>0</td>\n",
       "      <td>0</td>\n",
       "      <td>0</td>\n",
       "      <td>0</td>\n",
       "      <td>1</td>\n",
       "      <td>0</td>\n",
       "      <td>0</td>\n",
       "      <td>0</td>\n",
       "      <td>1</td>\n",
       "      <td>0</td>\n",
       "    </tr>\n",
       "    <tr>\n",
       "      <th>4</th>\n",
       "      <td>535377150</td>\n",
       "      <td>1039</td>\n",
       "      <td>114000</td>\n",
       "      <td>70</td>\n",
       "      <td>80.000000</td>\n",
       "      <td>8146</td>\n",
       "      <td>4</td>\n",
       "      <td>8</td>\n",
       "      <td>1900</td>\n",
       "      <td>2003</td>\n",
       "      <td>...</td>\n",
       "      <td>0</td>\n",
       "      <td>0</td>\n",
       "      <td>0</td>\n",
       "      <td>0</td>\n",
       "      <td>1</td>\n",
       "      <td>0</td>\n",
       "      <td>0</td>\n",
       "      <td>0</td>\n",
       "      <td>1</td>\n",
       "      <td>0</td>\n",
       "    </tr>\n",
       "    <tr>\n",
       "      <th>5</th>\n",
       "      <td>534177230</td>\n",
       "      <td>1665</td>\n",
       "      <td>227000</td>\n",
       "      <td>60</td>\n",
       "      <td>70.000000</td>\n",
       "      <td>8400</td>\n",
       "      <td>8</td>\n",
       "      <td>6</td>\n",
       "      <td>2001</td>\n",
       "      <td>2001</td>\n",
       "      <td>...</td>\n",
       "      <td>0</td>\n",
       "      <td>0</td>\n",
       "      <td>0</td>\n",
       "      <td>0</td>\n",
       "      <td>1</td>\n",
       "      <td>0</td>\n",
       "      <td>0</td>\n",
       "      <td>0</td>\n",
       "      <td>1</td>\n",
       "      <td>0</td>\n",
       "    </tr>\n",
       "  </tbody>\n",
       "</table>\n",
       "<p>5 rows × 255 columns</p>\n",
       "</div>"
      ],
      "text/plain": [
       "         PID  GrLivArea  SalePrice  MSSubClass  LotFrontage  LotArea  \\\n",
       "1  909176150        856     126000          30    68.516053     7890   \n",
       "2  905476230       1049     139500         120    42.000000     4235   \n",
       "3  911128020       1001     124900          30    60.000000     6060   \n",
       "4  535377150       1039     114000          70    80.000000     8146   \n",
       "5  534177230       1665     227000          60    70.000000     8400   \n",
       "\n",
       "   OverallQual  OverallCond  YearBuilt  YearRemodAdd  ...  SaleType_ConLw  \\\n",
       "1            6            6       1939          1950  ...               0   \n",
       "2            5            5       1984          1984  ...               0   \n",
       "3            5            9       1930          2007  ...               0   \n",
       "4            4            8       1900          2003  ...               0   \n",
       "5            8            6       2001          2001  ...               0   \n",
       "\n",
       "   SaleType_New  SaleType_Oth  SaleType_VWD  SaleType_WD   \\\n",
       "1             0             0             0             1   \n",
       "2             0             0             0             1   \n",
       "3             0             0             0             1   \n",
       "4             0             0             0             1   \n",
       "5             0             0             0             1   \n",
       "\n",
       "   SaleCondition_AdjLand  SaleCondition_Alloca  SaleCondition_Family  \\\n",
       "1                      0                     0                     0   \n",
       "2                      0                     0                     0   \n",
       "3                      0                     0                     0   \n",
       "4                      0                     0                     0   \n",
       "5                      0                     0                     0   \n",
       "\n",
       "   SaleCondition_Normal  SaleCondition_Partial  \n",
       "1                     1                      0  \n",
       "2                     1                      0  \n",
       "3                     1                      0  \n",
       "4                     1                      0  \n",
       "5                     1                      0  \n",
       "\n",
       "[5 rows x 255 columns]"
      ]
     },
     "execution_count": 10,
     "metadata": {},
     "output_type": "execute_result"
    }
   ],
   "source": [
    "# dummify, note that get_dummies automatically removes NaN values from categorical columns in final output\n",
    "# however you still need to manually fill in NaN for non categorical features. \n",
    "dfpp = pd.get_dummies(housing, columns = cat_feat.columns, drop_first = True)\n",
    "# Filing NA's with the mean of each column.\n",
    "dfpp = dfpp.fillna(dfpp.mean())\n",
    "# Check if any missing values remain\n",
    "dfpp.isna().mean()>0\n",
    "print(dfpp.shape)\n",
    "dfpp.head()"
   ]
  },
  {
   "cell_type": "code",
   "execution_count": 11,
   "metadata": {},
   "outputs": [
    {
     "data": {
      "text/plain": [
       "Text(0, 0.5, '% Missing')"
      ]
     },
     "execution_count": 11,
     "metadata": {},
     "output_type": "execute_result"
    },
    {
     "data": {
      "image/png": "[encoded data removed]",
      "text/plain": [
       "<Figure size 432x288 with 1 Axes>"
      ]
     },
     "metadata": {
      "needs_background": "light"
     },
     "output_type": "display_data"
    }
   ],
   "source": [
    "# -------------------------Checking that no data is missing---------------------------------------------\n",
    "miss_numfeats = dfpp.isna().sum().sort_values(ascending = False)*(100/2580)\n",
    "fig, ax = plt.subplots()  \n",
    "p2 = ax.bar(miss_numfeats.index[0:9], miss_numfeats[0:9]) # create a barplot\n",
    "ax.set_title('Top 10 feat. with missing values')\n",
    "ax.set_xlabel('Feature')\n",
    "# ax.get_xticks(): gets tick positions of current plot\n",
    "# ax.get_xticklabels(): gets tick labels of current plot\n",
    "ax.set_xticks(ax.get_xticks(), ax.get_xticklabels(), rotation=90, ha='right')\n",
    "ax.set_ylabel('% Missing')"
   ]
  },
  {
   "cell_type": "code",
   "execution_count": 12,
   "metadata": {},
   "outputs": [],
   "source": [
    "# Split into train and test datasets\n",
    "x_train, x_test, y_train, y_test = train_test_split(dfpp.drop(columns = 'SalePrice'), dfpp['SalePrice'], test_size=0.4, random_state=0)"
   ]
  },
  {
   "cell_type": "markdown",
   "metadata": {},
   "source": [
    "## Feature Importance"
   ]
  },
  {
   "cell_type": "code",
   "execution_count": 13,
   "metadata": {},
   "outputs": [],
   "source": [
    "# ---------------------------------------------------------------------------------------\n",
    "# NOTE: This is a good excersice in creating numpy structred arrays but not the most optimal way to \n",
    "# create and store arrays for plotting. Just use it as an example. \n",
    "\n",
    "# f_values, p_values = f_regression(x_train, y_train)\n",
    "# linear_FI =[]\n",
    "# # Making p_values a series with indices names by the columns of years df, then sorting by p-value mag.\n",
    "# # pd.Series(p_values, index=years.columns).sort_values()\n",
    "# # p_values\n",
    "# # create a zipped tuple of training column names and feature importance score.\n",
    "# linear_FI = list(zip(x_train.columns,p_values))\n",
    "# # define numpy data type for each element in tuple. \n",
    "# # S20: string of size 20\n",
    "# # float: self explanatory\n",
    "# dtype = [('feature', 'S20'), ('importance', 'float')]\n",
    "# # Create a numpy structured array: https://numpy.org/doc/stable/user/basics.rec.html\n",
    "# linear_FI = np.array(linear_FI, dtype=dtype)\n",
    "# # [::-1] reverse order of array\n",
    "# linearsort_FI = np.sort(linear_FI, order='importance')\n",
    "# # unpack the zipped array into column names and scores\n",
    "# name, score = zip(*linearsort_FI)\n",
    "# # create a DF from unpacked names and scores\n",
    "# linearFI_DF = pd.DataFrame({'name':name,'score':score})[:15]\n",
    "# fig, ax = plt.subplots()  \n",
    "# plotFI = ax.bar(linearFI_DF.name[0:9], linearFI_DF.score[0:9]) # create a barplot\n",
    "# ax.set_title('Top 10 Featues by fregression')\n",
    "# ax.set_xlabel('Feature')\n",
    "# # ax.get_xticks(): gets tick positions of current plot\n",
    "# # ax.get_xticklabels(): gets tick labels of current plot\n",
    "# ax.set_xticks(ax.get_xticks(), ax.get_xticklabels(), rotation=90, ha='right')\n",
    "# ax.set_ylabel('Log(p_value)')\n",
    "# ax.set_yscale(\"log\")"
   ]
  },
  {
   "cell_type": "code",
   "execution_count": 13,
   "metadata": {},
   "outputs": [
    {
     "name": "stderr",
     "output_type": "stream",
     "text": [
      "C:\\Users\\brian\\anaconda3\\lib\\site-packages\\sklearn\\feature_selection\\_univariate_selection.py:302: RuntimeWarning: invalid value encountered in true_divide\n",
      "  corr /= X_norms\n",
      "C:\\Users\\brian\\anaconda3\\lib\\site-packages\\pandas\\core\\arraylike.py:364: RuntimeWarning: divide by zero encountered in log10\n",
      "  result = getattr(ufunc, method)(*inputs, **kwargs)\n"
     ]
    },
    {
     "data": {
      "text/plain": [
       "Text(0.5, 1.0, 'Top 10 feat. by Linear regression')"
      ]
     },
     "execution_count": 13,
     "metadata": {},
     "output_type": "execute_result"
    },
    {
     "data": {
      "image/png": "[encoded data removed]",
      "text/plain": [
       "<Figure size 432x288 with 1 Axes>"
      ]
     },
     "metadata": {
      "needs_background": "light"
     },
     "output_type": "display_data"
    }
   ],
   "source": [
    "# Unpacking f and p values\n",
    "f_values, p_values = f_regression(x_train, y_train)\n",
    "# Converting p values into a pandas series (sorted)\n",
    "p_values = pd.Series(p_values, index=x_train.columns).sort_values()\n",
    "# creating a plot object with only the top 10 features\n",
    "plt.bar(p_values[0:11].keys(), abs(np.log10(p_values[0:11])))\n",
    "# Rotating xtick labels by 90deg\n",
    "plt.xticks(rotation=90)\n",
    "plt.xlabel('Features', fontweight= None, color = 'black', fontsize='17', horizontalalignment='center')\n",
    "plt.ylabel('log(p_value)', fontweight= None, color = 'black', fontsize='17', horizontalalignment='center')\n",
    "plt.title('Top 10 feat. by Linear regression', fontdict = {'fontsize': 15})"
   ]
  },
  {
   "cell_type": "code",
   "execution_count": 14,
   "metadata": {},
   "outputs": [
    {
     "data": {
      "text/plain": [
       "Text(0.5, 1.0, 'Top 10 feat. by Non-Linear regression')"
      ]
     },
     "execution_count": 14,
     "metadata": {},
     "output_type": "execute_result"
    },
    {
     "data": {
      "image/png": "[encoded data removed]",
      "text/plain": [
       "<Figure size 432x288 with 1 Axes>"
      ]
     },
     "metadata": {
      "needs_background": "light"
     },
     "output_type": "display_data"
    }
   ],
   "source": [
    "# mutual info tries to find \"p-values\" for non-linear dependancies amongst data sets. \n",
    "mi = mutual_info_regression(x_train, y_train)\n",
    "mi = pd.Series(mi, index = x_train.columns).sort_values(ascending = False)\n",
    "# creating a plot object with only the top 10 features\n",
    "plt.bar(mi[0:10].keys(), mi[0:10])\n",
    "# Rotating xtick labels by 90deg\n",
    "plt.xticks(rotation=90)\n",
    "plt.xlabel('Features', fontweight= None, color = 'black', fontsize='17', horizontalalignment='center')\n",
    "plt.ylabel('MI', fontweight= None, color = 'black', fontsize='17', horizontalalignment='center')\n",
    "plt.title('Top 10 feat. by Non-Linear regression', fontdict = {'fontsize': 15})"
   ]
  },
  {
   "cell_type": "markdown",
   "metadata": {},
   "source": [
    "### Normalizing skewed data\n",
    "Still needs work since data with negative skewness is not easily normalized by using the np.log1p(). \n",
    "Leaving it as a future work."
   ]
  },
  {
   "cell_type": "code",
   "execution_count": 14,
   "metadata": {},
   "outputs": [],
   "source": [
    "# num_feat[['OverallCond','YearBuilt','YearRemodAdd','GarageCars']].hist()"
   ]
  },
  {
   "cell_type": "code",
   "execution_count": 15,
   "metadata": {},
   "outputs": [],
   "source": [
    "# np.log1p(num_feat[['OverallCond','YearBuilt','YearRemodAdd','GarageCars']]).hist()"
   ]
  },
  {
   "cell_type": "code",
   "execution_count": 16,
   "metadata": {},
   "outputs": [],
   "source": [
    "skewed = num_feat.apply(lambda x: skew(x.dropna()))\n",
    "# skewed.sort_values()"
   ]
  },
  {
   "cell_type": "markdown",
   "metadata": {},
   "source": [
    "### MLR: Vanilla"
   ]
  },
  {
   "cell_type": "code",
   "execution_count": 14,
   "metadata": {
    "scrolled": true
   },
   "outputs": [],
   "source": [
    "from sklearn.linear_model import LinearRegression\n",
    "LR = LinearRegression\n",
    "results = [] # Initializing array\n",
    "# Note that MLR doesn't really have any hyper-parameters you can tune. \n",
    "# so we're only tunning the normalization option, which is technically\n",
    "# a parameter of MLR, not a hyper-parm.\n",
    "mlrGrid = {'normalize': [False, True]}\n",
    "mlrCV = GridSearchCV(LR(), mlrGrid, cv = 2, return_train_score = True, n_jobs = 4, scoring = 'r2')\n",
    "MLR_Train = mlrCV.fit(x_train,y_train)\n",
    "# This returns the mean r^2 of the CV splits, not the highest\n",
    "results = np.append(results,MLR_Train.best_score_)\n",
    "# \"**\" this oper. unpacks dictionaries into labels and values. \"best_params_\" is a dictionary of\n",
    "# params (labesl) and their values (values)\n",
    "MLR_Test = LR(**mlrCV.best_params_).fit(x_test,y_test)\n",
    "results = np.append(results,MLR_Test.score(x_test,y_test))\n",
    "# -----------------------------Saving results------------------------------------------------------------\n",
    "# Reshaping the array from [n,] to [n/2 ; 2]. \n",
    "results_reshape = results.reshape(int(results.shape[0]/2),2)\n",
    "resultsDF = pd.DataFrame(data = results_reshape, index=['MLR'], columns = ['Train','Test'])\n",
    "speak('DONE')"
   ]
  },
  {
   "cell_type": "code",
   "execution_count": 15,
   "metadata": {},
   "outputs": [
    {
     "name": "stdout",
     "output_type": "stream",
     "text": [
      "\n",
      "Best hyper-parms:\n",
      " {'normalize': False}\n"
     ]
    },
    {
     "data": {
      "text/html": [
       "<div>\n",
       "<style scoped>\n",
       "    .dataframe tbody tr th:only-of-type {\n",
       "        vertical-align: middle;\n",
       "    }\n",
       "\n",
       "    .dataframe tbody tr th {\n",
       "        vertical-align: top;\n",
       "    }\n",
       "\n",
       "    .dataframe thead th {\n",
       "        text-align: right;\n",
       "    }\n",
       "</style>\n",
       "<table border=\"1\" class=\"dataframe\">\n",
       "  <thead>\n",
       "    <tr style=\"text-align: right;\">\n",
       "      <th></th>\n",
       "      <th>Train</th>\n",
       "      <th>Test</th>\n",
       "    </tr>\n",
       "  </thead>\n",
       "  <tbody>\n",
       "    <tr>\n",
       "      <th>MLR</th>\n",
       "      <td>0.773706</td>\n",
       "      <td>0.944694</td>\n",
       "    </tr>\n",
       "  </tbody>\n",
       "</table>\n",
       "</div>"
      ],
      "text/plain": [
       "        Train      Test\n",
       "MLR  0.773706  0.944694"
      ]
     },
     "execution_count": 15,
     "metadata": {},
     "output_type": "execute_result"
    }
   ],
   "source": [
    "print('\\nBest hyper-parms:\\n',MLR_Train.best_params_)\n",
    "resultsDF"
   ]
  },
  {
   "cell_type": "markdown",
   "metadata": {},
   "source": [
    "### MLR: Lasso"
   ]
  },
  {
   "cell_type": "code",
   "execution_count": 16,
   "metadata": {},
   "outputs": [],
   "source": [
    "from sklearn.linear_model import Lasso\n",
    "LS=Lasso\n",
    "# You sould only have two entries from MLR vanilla up to this point\n",
    "# this ensures that, so that when you run this chunk multiple times\n",
    "# you don't continously append values\n",
    "results = results[0:2]\n",
    "# Note that Lasso only has alpha as hyper-parameters you can tune in addition\n",
    "# to normalization\n",
    "lassoGrid = {'random_state': [0],'alpha': range(0,100,1), 'normalize': [False, True], 'tol': [1e-1]}\n",
    "lassoCV = GridSearchCV(LS(), lassoGrid, cv = 2, return_train_score = True, n_jobs = 4)\n",
    "Lasso_Train = lassoCV.fit(x_train,y_train)\n",
    "results = np.append(results, Lasso_Train.best_score_)\n",
    "Lasso_Test = LS(**lassoCV.best_params_).fit(x_test,y_test)\n",
    "results = np.append(results,Lasso_Test.score(x_test,y_test))\n",
    "# -----------------------------Saving results------------------------------------------------------------\n",
    "# Reshaping the array from [n,] to [n/2 ; 2]. \n",
    "results_reshape = results.reshape(int(results.shape[0]/2),2)\n",
    "resultsDF = pd.DataFrame(data = results_reshape, index=['MLR','Lasso'], columns = ['Train','Test'])\n",
    "speak('DONE')"
   ]
  },
  {
   "cell_type": "code",
   "execution_count": 17,
   "metadata": {},
   "outputs": [
    {
     "name": "stdout",
     "output_type": "stream",
     "text": [
      "\n",
      "Best hyper-parms:\n",
      " {'alpha': 76, 'normalize': False, 'random_state': 0, 'tol': 0.1}\n"
     ]
    },
    {
     "data": {
      "text/html": [
       "<div>\n",
       "<style scoped>\n",
       "    .dataframe tbody tr th:only-of-type {\n",
       "        vertical-align: middle;\n",
       "    }\n",
       "\n",
       "    .dataframe tbody tr th {\n",
       "        vertical-align: top;\n",
       "    }\n",
       "\n",
       "    .dataframe thead th {\n",
       "        text-align: right;\n",
       "    }\n",
       "</style>\n",
       "<table border=\"1\" class=\"dataframe\">\n",
       "  <thead>\n",
       "    <tr style=\"text-align: right;\">\n",
       "      <th></th>\n",
       "      <th>Train</th>\n",
       "      <th>Test</th>\n",
       "    </tr>\n",
       "  </thead>\n",
       "  <tbody>\n",
       "    <tr>\n",
       "      <th>MLR</th>\n",
       "      <td>0.773706</td>\n",
       "      <td>0.944694</td>\n",
       "    </tr>\n",
       "    <tr>\n",
       "      <th>Lasso</th>\n",
       "      <td>0.894153</td>\n",
       "      <td>0.915500</td>\n",
       "    </tr>\n",
       "  </tbody>\n",
       "</table>\n",
       "</div>"
      ],
      "text/plain": [
       "          Train      Test\n",
       "MLR    0.773706  0.944694\n",
       "Lasso  0.894153  0.915500"
      ]
     },
     "execution_count": 17,
     "metadata": {},
     "output_type": "execute_result"
    }
   ],
   "source": [
    "print('\\nBest hyper-parms:\\n',lassoCV.best_params_)\n",
    "resultsDF"
   ]
  },
  {
   "cell_type": "markdown",
   "metadata": {},
   "source": [
    "### MLR: Ridge"
   ]
  },
  {
   "cell_type": "code",
   "execution_count": 18,
   "metadata": {},
   "outputs": [],
   "source": [
    "from sklearn.linear_model import Ridge\n",
    "RG = Ridge\n",
    "# You sould only have four entries from MLR vanilla+Lasso up to this point\n",
    "# this ensures that, so that when you run this chunk multiple times\n",
    "# you don't continously append values\n",
    "results = results[0:4]\n",
    "# Note that Lasso only has alpha as hyper-parameters you can tune in addition\n",
    "# to normalization\n",
    "ridgeGrid = {'random_state': [0],'alpha': range(0,100,1), 'normalize': [False, True], 'tol': [1e-1]}\n",
    "ridgeCV = GridSearchCV(RG(), ridgeGrid, cv = 2, return_train_score = True, n_jobs = 4)\n",
    "Ridge_Train = ridgeCV.fit(x_train,y_train)\n",
    "results = np.append(results, Ridge_Train.best_score_)\n",
    "Ridge_Test = RG(**ridgeCV.best_params_).fit(x_test,y_test)\n",
    "results = np.append(results,Ridge_Test.score(x_test,y_test))\n",
    "# -----------------------------Saving results------------------------------------------------------------\n",
    "# Reshaping the array from [n,] to [n/2 ; 2]. \n",
    "results_reshape = results.reshape(int(results.shape[0]/2),2)\n",
    "resultsDF = pd.DataFrame(data = results_reshape, index=['MLR','Lasso','Ridge'], columns = ['Train','Test'])\n",
    "speak('DONE')"
   ]
  },
  {
   "cell_type": "code",
   "execution_count": 19,
   "metadata": {},
   "outputs": [
    {
     "name": "stdout",
     "output_type": "stream",
     "text": [
      "\n",
      "Best hyper-parms:\n",
      " {'alpha': 8, 'normalize': False, 'random_state': 0, 'tol': 0.1}\n"
     ]
    },
    {
     "data": {
      "text/html": [
       "<div>\n",
       "<style scoped>\n",
       "    .dataframe tbody tr th:only-of-type {\n",
       "        vertical-align: middle;\n",
       "    }\n",
       "\n",
       "    .dataframe tbody tr th {\n",
       "        vertical-align: top;\n",
       "    }\n",
       "\n",
       "    .dataframe thead th {\n",
       "        text-align: right;\n",
       "    }\n",
       "</style>\n",
       "<table border=\"1\" class=\"dataframe\">\n",
       "  <thead>\n",
       "    <tr style=\"text-align: right;\">\n",
       "      <th></th>\n",
       "      <th>Train</th>\n",
       "      <th>Test</th>\n",
       "    </tr>\n",
       "  </thead>\n",
       "  <tbody>\n",
       "    <tr>\n",
       "      <th>MLR</th>\n",
       "      <td>0.773706</td>\n",
       "      <td>0.944694</td>\n",
       "    </tr>\n",
       "    <tr>\n",
       "      <th>Lasso</th>\n",
       "      <td>0.894153</td>\n",
       "      <td>0.915500</td>\n",
       "    </tr>\n",
       "    <tr>\n",
       "      <th>Ridge</th>\n",
       "      <td>0.894658</td>\n",
       "      <td>0.929084</td>\n",
       "    </tr>\n",
       "  </tbody>\n",
       "</table>\n",
       "</div>"
      ],
      "text/plain": [
       "          Train      Test\n",
       "MLR    0.773706  0.944694\n",
       "Lasso  0.894153  0.915500\n",
       "Ridge  0.894658  0.929084"
      ]
     },
     "execution_count": 19,
     "metadata": {},
     "output_type": "execute_result"
    }
   ],
   "source": [
    "print('\\nBest hyper-parms:\\n',ridgeCV.best_params_)\n",
    "resultsDF"
   ]
  },
  {
   "cell_type": "markdown",
   "metadata": {},
   "source": [
    "### MLR: ELasticNet"
   ]
  },
  {
   "cell_type": "code",
   "execution_count": 20,
   "metadata": {},
   "outputs": [],
   "source": [
    "from sklearn.linear_model import ElasticNet\n",
    "EN = ElasticNet\n",
    "# You sould only have three entries from MLR vanilla+Lasso+Ridge up to this point\n",
    "# this ensures that, so that when you run this chunk multiple times\n",
    "# you don't continously append values\n",
    "results = results[0:6]\n",
    "elasticGrid = {'random_state': [0], 'alpha': range(1,100,10), 'l1_ratio': np.linspace(0,1,11), 'normalize': [False, True]}\n",
    "elasticCV = GridSearchCV(EN(), elasticGrid, cv = 2, return_train_score = True, n_jobs = 4)\n",
    "Elastic_Train = elasticCV.fit(x_train,y_train)\n",
    "results = np.append(results, Elastic_Train.best_score_)\n",
    "Elastic_Test = EN(**elasticCV.best_params_).fit(x_test,y_test)\n",
    "results = np.append(results,Elastic_Test.score(x_test,y_test))\n",
    "# -----------------------------Saving results------------------------------------------------------------\n",
    "# Reshaping the array from [n,] to [n/2 ; 2]. \n",
    "results_reshape = results.reshape(int(results.shape[0]/2),2)\n",
    "resultsDF = pd.DataFrame(data = results_reshape, index=['MLR','Lasso','Ridge','Elastic'], columns = ['Train','Test'])\n",
    "speak('DONE')"
   ]
  },
  {
   "cell_type": "code",
   "execution_count": 21,
   "metadata": {},
   "outputs": [
    {
     "name": "stdout",
     "output_type": "stream",
     "text": [
      "\n",
      "Best hyper-parms:\n",
      " {'alpha': 81, 'l1_ratio': 1.0, 'normalize': False, 'random_state': 0}\n"
     ]
    },
    {
     "data": {
      "text/html": [
       "<div>\n",
       "<style scoped>\n",
       "    .dataframe tbody tr th:only-of-type {\n",
       "        vertical-align: middle;\n",
       "    }\n",
       "\n",
       "    .dataframe tbody tr th {\n",
       "        vertical-align: top;\n",
       "    }\n",
       "\n",
       "    .dataframe thead th {\n",
       "        text-align: right;\n",
       "    }\n",
       "</style>\n",
       "<table border=\"1\" class=\"dataframe\">\n",
       "  <thead>\n",
       "    <tr style=\"text-align: right;\">\n",
       "      <th></th>\n",
       "      <th>Train</th>\n",
       "      <th>Test</th>\n",
       "    </tr>\n",
       "  </thead>\n",
       "  <tbody>\n",
       "    <tr>\n",
       "      <th>MLR</th>\n",
       "      <td>0.773706</td>\n",
       "      <td>0.944694</td>\n",
       "    </tr>\n",
       "    <tr>\n",
       "      <th>Lasso</th>\n",
       "      <td>0.894153</td>\n",
       "      <td>0.915500</td>\n",
       "    </tr>\n",
       "    <tr>\n",
       "      <th>Ridge</th>\n",
       "      <td>0.894658</td>\n",
       "      <td>0.929084</td>\n",
       "    </tr>\n",
       "    <tr>\n",
       "      <th>Elastic</th>\n",
       "      <td>0.896882</td>\n",
       "      <td>0.930879</td>\n",
       "    </tr>\n",
       "  </tbody>\n",
       "</table>\n",
       "</div>"
      ],
      "text/plain": [
       "            Train      Test\n",
       "MLR      0.773706  0.944694\n",
       "Lasso    0.894153  0.915500\n",
       "Ridge    0.894658  0.929084\n",
       "Elastic  0.896882  0.930879"
      ]
     },
     "execution_count": 21,
     "metadata": {},
     "output_type": "execute_result"
    }
   ],
   "source": [
    "# -------------------Printing Results--------------------------\n",
    "print('\\nBest hyper-parms:\\n',Elastic_Train.best_params_)\n",
    "resultsDF"
   ]
  },
  {
   "cell_type": "code",
   "execution_count": 22,
   "metadata": {},
   "outputs": [
    {
     "data": {
      "text/plain": [
       "Text(0, 0.5, 'Elast Net Coef.')"
      ]
     },
     "execution_count": 22,
     "metadata": {},
     "output_type": "execute_result"
    },
    {
     "data": {
      "image/png": "[encoded data removed]",
      "text/plain": [
       "<Figure size 432x288 with 1 Axes>"
      ]
     },
     "metadata": {
      "needs_background": "light"
     },
     "output_type": "display_data"
    }
   ],
   "source": [
    "# Since you actually can't get the coef. of the best prediction from gridsearchCV, then \n",
    "# we instead use the test prediction with the best params from gridsearchCV \n",
    "# NOTE: **elasticCV.best_params_ unpacks the dict. into \"label = value\" pairs so that it\n",
    "# can be used as input to the ElasticNet function. \n",
    "elastic_FI = pd.Series(abs(Elastic_Test.coef_), x_train.columns ).sort_values(ascending = False)\n",
    "plt.bar(elastic_FI[1:10].keys(), elastic_FI[1:10])\n",
    "# Rotating xtick labels by 90deg\n",
    "plt.xticks(rotation=90)\n",
    "plt.xlabel('Features', fontweight= None, color = 'black', fontsize='17', horizontalalignment='center')\n",
    "plt.ylabel('Elast Net Coef.', fontweight= None, color = 'black', fontsize='17', horizontalalignment='center')\n",
    "\n",
    "# The values here are the coeff. for the linear elastic model, these don't neccesarily\n",
    "# predict significance, You can hava a large coeff. for bad normalization. Also, these\n",
    "# coefficients are how the target varies with the rest held constant, therefore not really \n",
    "# a significance amongst all inputs. P_values for these models would be better, but they \n",
    "# are not available yet. Do not infer feature importance from the below histogram.\n",
    "# speak(\"DONE\")"
   ]
  },
  {
   "cell_type": "markdown",
   "metadata": {},
   "source": [
    "### RF: Model + Feat. Imp."
   ]
  },
  {
   "cell_type": "code",
   "execution_count": 23,
   "metadata": {},
   "outputs": [],
   "source": [
    "from sklearn import ensemble\n",
    "RF = ensemble.RandomForestRegressor\n",
    "# You sould only have four entries from MLR vanilla+Lasso+Ridge+Elasic\n",
    "# up to this point this ensures that, so that when you run this chunk \n",
    "# multiple times you don't continously append values\n",
    "results = results[0:8]\n",
    "# max_features = Each tree gets the full set of features, but at each node, \n",
    "#                only a random subset of features is considered. \n",
    "#                https://sebastianraschka.com/faq/docs/random-forest-feature-subsets.html\n",
    "#                Sci-kit reccomends m=p for regression problems & m=sqrt(p) for classification\n",
    "#                You should always tune m regardless of what scikit reccomends (see below link)\n",
    "#                https://stats.stackexchange.com/questions/324370/references-on-number-of-features-to-use-in-random-forest-regression\n",
    "# max_samples: ratio of how many features each tree uses [0->1]\n",
    "# n_estimators: # trees in forest\n",
    "rfGrid = {'random_state': [0], 'n_estimators': range(10,150,10), 'max_features': range(1,100,10), 'max_samples': np.linspace(0,1,11)} #, 'max_depth':range(3,20,2)}\n",
    "# CV = Kfold cross validation. This says how many subgroups to divide up your test data\n",
    "rfCV = GridSearchCV(RF(), rfGrid, cv = 2, return_train_score = True, n_jobs = 4)\n",
    "RF_Train = rfCV.fit(x_train,y_train)\n",
    "results = np.append(results, RF_Train.best_score_)\n",
    "RF_Test = RF(**RF_Train.best_params_).fit(x_test,y_test)\n",
    "results = np.append(results,RF_Test.score(x_test,y_test))\n",
    "# ------------------------------------------Saving results------------------------------------------------------------\n",
    "# Reshaping the array from [n,] to [n/2 ; 2]. \n",
    "results_reshape = results.reshape(int(results.shape[0]/2),2)\n",
    "resultsDF = pd.DataFrame(data = results_reshape, index=['MLR','Lasso','Ridge','Elastic','RF'], columns = ['Train','Test'])\n",
    "speak('DONE')"
   ]
  },
  {
   "cell_type": "code",
   "execution_count": 24,
   "metadata": {},
   "outputs": [
    {
     "name": "stdout",
     "output_type": "stream",
     "text": [
      "\n",
      "Best hyper-parms:\n",
      " {'max_features': 81, 'max_samples': 0.9, 'n_estimators': 80, 'random_state': 0}\n"
     ]
    },
    {
     "data": {
      "text/html": [
       "<div>\n",
       "<style scoped>\n",
       "    .dataframe tbody tr th:only-of-type {\n",
       "        vertical-align: middle;\n",
       "    }\n",
       "\n",
       "    .dataframe tbody tr th {\n",
       "        vertical-align: top;\n",
       "    }\n",
       "\n",
       "    .dataframe thead th {\n",
       "        text-align: right;\n",
       "    }\n",
       "</style>\n",
       "<table border=\"1\" class=\"dataframe\">\n",
       "  <thead>\n",
       "    <tr style=\"text-align: right;\">\n",
       "      <th></th>\n",
       "      <th>Train</th>\n",
       "      <th>Test</th>\n",
       "    </tr>\n",
       "  </thead>\n",
       "  <tbody>\n",
       "    <tr>\n",
       "      <th>MLR</th>\n",
       "      <td>0.773706</td>\n",
       "      <td>0.944694</td>\n",
       "    </tr>\n",
       "    <tr>\n",
       "      <th>Lasso</th>\n",
       "      <td>0.894153</td>\n",
       "      <td>0.915500</td>\n",
       "    </tr>\n",
       "    <tr>\n",
       "      <th>Ridge</th>\n",
       "      <td>0.894658</td>\n",
       "      <td>0.929084</td>\n",
       "    </tr>\n",
       "    <tr>\n",
       "      <th>Elastic</th>\n",
       "      <td>0.896882</td>\n",
       "      <td>0.930879</td>\n",
       "    </tr>\n",
       "    <tr>\n",
       "      <th>RF</th>\n",
       "      <td>0.892533</td>\n",
       "      <td>0.976780</td>\n",
       "    </tr>\n",
       "  </tbody>\n",
       "</table>\n",
       "</div>"
      ],
      "text/plain": [
       "            Train      Test\n",
       "MLR      0.773706  0.944694\n",
       "Lasso    0.894153  0.915500\n",
       "Ridge    0.894658  0.929084\n",
       "Elastic  0.896882  0.930879\n",
       "RF       0.892533  0.976780"
      ]
     },
     "execution_count": 24,
     "metadata": {},
     "output_type": "execute_result"
    }
   ],
   "source": [
    "# --------------------------------Printing Results-------------------------------\n",
    "print('\\nBest hyper-parms:\\n',RF_Train.best_params_)\n",
    "resultsDF"
   ]
  },
  {
   "cell_type": "code",
   "execution_count": 25,
   "metadata": {},
   "outputs": [
    {
     "data": {
      "text/plain": [
       "Text(0.5, 1.0, 'Top 10 Features (RF model)')"
      ]
     },
     "execution_count": 25,
     "metadata": {},
     "output_type": "execute_result"
    },
    {
     "data": {
      "image/png": "[encoded data removed]",
      "text/plain": [
       "<Figure size 432x288 with 1 Axes>"
      ]
     },
     "metadata": {
      "needs_background": "light"
     },
     "output_type": "display_data"
    }
   ],
   "source": [
    "# create a zipped tuple of training column names and feature importance score.\n",
    "feature_importance = pd.Series(RF_Test.feature_importances_, x_train.columns).sort_values(ascending = False)\n",
    "# print(feature_importance)\n",
    "# creating a plot object with only the top 10 features\n",
    "plt.bar(feature_importance[0:10].keys(), feature_importance[0:10])\n",
    "# Rotating xtick labels by 90deg\n",
    "plt.xticks(rotation=90)\n",
    "plt.xlabel('Features', fontweight= None, color = 'black', fontsize='17', horizontalalignment='center')\n",
    "plt.ylabel('RF Feat. Imp.', fontweight= None, color = 'black', fontsize='17', horizontalalignment='center')\n",
    "plt.title('Top 10 Features (RF model)',{'fontsize': 15, 'fontweight': 'bold'})"
   ]
  },
  {
   "cell_type": "markdown",
   "metadata": {},
   "source": [
    "### Gradient boosting"
   ]
  },
  {
   "cell_type": "code",
   "execution_count": 26,
   "metadata": {
    "scrolled": true
   },
   "outputs": [],
   "source": [
    "from sklearn.ensemble import GradientBoostingRegressor\n",
    "GB = GradientBoostingRegressor\n",
    "# You sould only have five entries from MLR vanilla+Lasso+Ridge+Elasic+RF\n",
    "# up to this point this ensures that, so that when you run this chunk \n",
    "# multiple times you don't continously append values\n",
    "results = results[0:10]\n",
    "# learning_rate = Learning rate shrinks the contribution of each tree \n",
    "# by learning_rate. There is a trade-off between learning_rate and n_estimators.\n",
    "# n_estimators: # trees in forest\n",
    "# sub_sample: The fraction of samples to be used for fitting the individual base learners. \n",
    "# If smaller than 1.0 this results in Stochastic Gradient Boosting. \n",
    "# Subsample interacts with the parameter n_estimators. Choosing subsample < 1.0 leads to \n",
    "# a reduction of variance and an increase in bias.\n",
    "gbGrid = {'random_state': [0], 'learning_rate': np.linspace(0,1,11), 'n_estimators': range(100,300,25), 'subsample': np.linspace(0,1,11)}\n",
    "# CV = Kfold cross validation. This says how many subgroups to divide up your test data\n",
    "gbCV = GridSearchCV(GB(), gbGrid, cv = 2, return_train_score = True, n_jobs = 4)\n",
    "GB_Train = gbCV.fit(x_train,y_train)\n",
    "results = np.append(results, GB_Train.best_score_)\n",
    "GB_Test = GB(**gbCV.best_params_).fit(x_test,y_test)\n",
    "results = np.append(results,GB_Test.score(x_test,y_test))\n",
    "# ------------------------------------------Saving results------------------------------------------------------------\n",
    "# Reshaping the array from [n,] to [n/2 ; 2]. \n",
    "results_reshape = results.reshape(int(results.shape[0]/2),2)\n",
    "resultsDF = pd.DataFrame(data = results_reshape, index=['MLR','Lasso','Ridge','Elastic','RF','GB'], columns = ['Train','Test'])\n",
    "# resultsDF = pd.DataFrame(data = results_reshape, index=['GB'], columns = ['Train','Test'])\n",
    "speak('DONE')"
   ]
  },
  {
   "cell_type": "code",
   "execution_count": 27,
   "metadata": {},
   "outputs": [
    {
     "name": "stdout",
     "output_type": "stream",
     "text": [
      "\n",
      "Best hyper-parms:\n",
      " {'learning_rate': 0.1, 'n_estimators': 275, 'random_state': 0, 'subsample': 0.4}\n"
     ]
    },
    {
     "data": {
      "text/html": [
       "<div>\n",
       "<style scoped>\n",
       "    .dataframe tbody tr th:only-of-type {\n",
       "        vertical-align: middle;\n",
       "    }\n",
       "\n",
       "    .dataframe tbody tr th {\n",
       "        vertical-align: top;\n",
       "    }\n",
       "\n",
       "    .dataframe thead th {\n",
       "        text-align: right;\n",
       "    }\n",
       "</style>\n",
       "<table border=\"1\" class=\"dataframe\">\n",
       "  <thead>\n",
       "    <tr style=\"text-align: right;\">\n",
       "      <th></th>\n",
       "      <th>Train</th>\n",
       "      <th>Test</th>\n",
       "    </tr>\n",
       "  </thead>\n",
       "  <tbody>\n",
       "    <tr>\n",
       "      <th>MLR</th>\n",
       "      <td>0.773706</td>\n",
       "      <td>0.944694</td>\n",
       "    </tr>\n",
       "    <tr>\n",
       "      <th>Lasso</th>\n",
       "      <td>0.894153</td>\n",
       "      <td>0.915500</td>\n",
       "    </tr>\n",
       "    <tr>\n",
       "      <th>Ridge</th>\n",
       "      <td>0.894658</td>\n",
       "      <td>0.929084</td>\n",
       "    </tr>\n",
       "    <tr>\n",
       "      <th>Elastic</th>\n",
       "      <td>0.896882</td>\n",
       "      <td>0.930879</td>\n",
       "    </tr>\n",
       "    <tr>\n",
       "      <th>RF</th>\n",
       "      <td>0.892533</td>\n",
       "      <td>0.976780</td>\n",
       "    </tr>\n",
       "    <tr>\n",
       "      <th>GB</th>\n",
       "      <td>0.913111</td>\n",
       "      <td>0.988731</td>\n",
       "    </tr>\n",
       "  </tbody>\n",
       "</table>\n",
       "</div>"
      ],
      "text/plain": [
       "            Train      Test\n",
       "MLR      0.773706  0.944694\n",
       "Lasso    0.894153  0.915500\n",
       "Ridge    0.894658  0.929084\n",
       "Elastic  0.896882  0.930879\n",
       "RF       0.892533  0.976780\n",
       "GB       0.913111  0.988731"
      ]
     },
     "execution_count": 27,
     "metadata": {},
     "output_type": "execute_result"
    }
   ],
   "source": [
    "# ----------------------Printing Results---------------------------------\n",
    "print('\\nBest hyper-parms:\\n',gbCV.best_params_)\n",
    "resultsDF\n",
    "# gbCV"
   ]
  },
  {
   "cell_type": "code",
   "execution_count": 28,
   "metadata": {},
   "outputs": [
    {
     "data": {
      "image/png": "[encoded data removed]",
      "text/plain": [
       "<Figure size 432x288 with 1 Axes>"
      ]
     },
     "metadata": {
      "needs_background": "light"
     },
     "output_type": "display_data"
    }
   ],
   "source": [
    "def abline(slope, intercept):\n",
    "    \"\"\"Plot a line from slope and intercept\"\"\"\n",
    "    axes = plt.gca()\n",
    "    x_vals = np.array(axes.get_xlim())\n",
    "    y_vals = intercept + slope * x_vals\n",
    "    plt.plot(x_vals, y_vals, color = 'red', linewidth = '3')\n",
    "\n",
    "predicted = GB_Test.predict(x_test)\n",
    "predicted = predicted.reshape(1032,1)\n",
    "# print(predicted.shape)\n",
    "actual = y_test.values.reshape(1032,1)\n",
    "# print(actual.shape)\n",
    "toyLR = LR().fit(predicted,actual)\n",
    "# print(\"score: \",toyLR.score(predicted,actual))\n",
    "# print(\"intercept:\\n\",toyLR.intercept_)\n",
    "# print(\"slope:\\n\",toyLR.coef_)\n",
    "# print(predicted.shape)\n",
    "# y_test.shape\n",
    "# ----------------Plotting-------------------------\n",
    "plt.scatter(predicted, y_test)\n",
    "# Rotating xtick labels by 90deg\n",
    "plt.xticks(rotation=90)\n",
    "plt.xlabel('GB PRediction', fontweight= None, color = 'black', fontsize='17', horizontalalignment='center')\n",
    "plt.ylabel('Actual', fontweight= None, color = 'black', fontsize='17', horizontalalignment='center')\n",
    "plt.title('GB vs Actual',{'fontsize': 15, 'fontweight': 'bold'})\n",
    "plt.grid(color='black', linestyle='-', linewidth=0.1)\n",
    "abline(toyLR.coef_.reshape(1,),toyLR.intercept_)"
   ]
  },
  {
   "cell_type": "code",
   "execution_count": 89,
   "metadata": {},
   "outputs": [
    {
     "ename": "AttributeError",
     "evalue": "'GridSearchCV' object has no attribute 'feature_importances_'",
     "output_type": "error",
     "traceback": [
      "\u001b[1;31m---------------------------------------------------------------------------\u001b[0m",
      "\u001b[1;31mAttributeError\u001b[0m                            Traceback (most recent call last)",
      "\u001b[1;32m~\\AppData\\Local\\Temp/ipykernel_16004/2787751692.py\u001b[0m in \u001b[0;36m<module>\u001b[1;34m\u001b[0m\n\u001b[1;32m----> 1\u001b[1;33m \u001b[0mgbCV\u001b[0m\u001b[1;33m.\u001b[0m\u001b[0mfeature_importances_\u001b[0m\u001b[1;33m\u001b[0m\u001b[1;33m\u001b[0m\u001b[0m\n\u001b[0m",
      "\u001b[1;31mAttributeError\u001b[0m: 'GridSearchCV' object has no attribute 'feature_importances_'"
     ]
    }
   ],
   "source": [
    "gbCV.feature_importances_"
   ]
  },
  {
   "cell_type": "code",
   "execution_count": 82,
   "metadata": {},
   "outputs": [
    {
     "ename": "AttributeError",
     "evalue": "'GridSearchCV' object has no attribute 'feature_importances_'",
     "output_type": "error",
     "traceback": [
      "\u001b[1;31m---------------------------------------------------------------------------\u001b[0m",
      "\u001b[1;31mAttributeError\u001b[0m                            Traceback (most recent call last)",
      "\u001b[1;32m~\\AppData\\Local\\Temp/ipykernel_16004/1108305822.py\u001b[0m in \u001b[0;36m<module>\u001b[1;34m\u001b[0m\n\u001b[0;32m      1\u001b[0m \u001b[1;31m# create a zipped tuple of training column names and feature importance score.\u001b[0m\u001b[1;33m\u001b[0m\u001b[1;33m\u001b[0m\u001b[0m\n\u001b[1;32m----> 2\u001b[1;33m \u001b[0mfeature_importance\u001b[0m \u001b[1;33m=\u001b[0m \u001b[0mpd\u001b[0m\u001b[1;33m.\u001b[0m\u001b[0mSeries\u001b[0m\u001b[1;33m(\u001b[0m\u001b[0mGB_Train\u001b[0m\u001b[1;33m.\u001b[0m\u001b[0mfeature_importances_\u001b[0m\u001b[1;33m,\u001b[0m \u001b[0mx_train\u001b[0m\u001b[1;33m.\u001b[0m\u001b[0mcolumns\u001b[0m\u001b[1;33m)\u001b[0m\u001b[1;33m.\u001b[0m\u001b[0msort_values\u001b[0m\u001b[1;33m(\u001b[0m\u001b[0mascending\u001b[0m \u001b[1;33m=\u001b[0m \u001b[1;32mFalse\u001b[0m\u001b[1;33m)\u001b[0m\u001b[1;33m\u001b[0m\u001b[1;33m\u001b[0m\u001b[0m\n\u001b[0m\u001b[0;32m      3\u001b[0m \u001b[1;31m# print(feature_importance)\u001b[0m\u001b[1;33m\u001b[0m\u001b[1;33m\u001b[0m\u001b[0m\n\u001b[0;32m      4\u001b[0m \u001b[1;31m# creating a plot object with only the top 10 features\u001b[0m\u001b[1;33m\u001b[0m\u001b[1;33m\u001b[0m\u001b[0m\n\u001b[0;32m      5\u001b[0m \u001b[0mplt\u001b[0m\u001b[1;33m.\u001b[0m\u001b[0mbar\u001b[0m\u001b[1;33m(\u001b[0m\u001b[0mfeature_importance\u001b[0m\u001b[1;33m[\u001b[0m\u001b[1;36m0\u001b[0m\u001b[1;33m:\u001b[0m\u001b[1;36m10\u001b[0m\u001b[1;33m]\u001b[0m\u001b[1;33m.\u001b[0m\u001b[0mkeys\u001b[0m\u001b[1;33m(\u001b[0m\u001b[1;33m)\u001b[0m\u001b[1;33m,\u001b[0m \u001b[0mfeature_importance\u001b[0m\u001b[1;33m[\u001b[0m\u001b[1;36m0\u001b[0m\u001b[1;33m:\u001b[0m\u001b[1;36m10\u001b[0m\u001b[1;33m]\u001b[0m\u001b[1;33m)\u001b[0m\u001b[1;33m\u001b[0m\u001b[1;33m\u001b[0m\u001b[0m\n",
      "\u001b[1;31mAttributeError\u001b[0m: 'GridSearchCV' object has no attribute 'feature_importances_'"
     ]
    }
   ],
   "source": [
    "# create a zipped tuple of training column names and feature importance score.\n",
    "feature_importance = pd.Series(GB_Train.feature_importances_, x_train.columns).sort_values(ascending = False)\n",
    "# print(feature_importance)\n",
    "# creating a plot object with only the top 10 features\n",
    "plt.bar(feature_importance[0:10].keys(), feature_importance[0:10])\n",
    "# Rotating xtick labels by 90deg\n",
    "plt.xticks(rotation=90)\n",
    "plt.xlabel('Features', fontweight= None, color = 'black', fontsize='17', horizontalalignment='center')\n",
    "plt.ylabel('GB Feat. Imp.', fontweight= None, color = 'black', fontsize='17', horizontalalignment='center')\n",
    "plt.title('Top 10 Features (GB model)',{'fontsize': 15, 'fontweight': 'bold'})"
   ]
  },
  {
   "cell_type": "markdown",
   "metadata": {},
   "source": [
    "### Feature Selection"
   ]
  },
  {
   "cell_type": "code",
   "execution_count": 80,
   "metadata": {},
   "outputs": [
    {
     "data": {
      "text/plain": [
       "array(['OverallQual', 'GrLivArea', 'TotalBsmtSF', '1stFlrSF',\n",
       "       'GarageArea', 'LotArea', 'YearBuilt', 'BsmtFinSF1', 'GarageCars',\n",
       "       'YearRemodAdd', '2ndFlrSF', 'ScreenPorch', 'OpenPorchSF',\n",
       "       'Condition2_PosN', 'LotFrontage'], dtype=object)"
      ]
     },
     "execution_count": 80,
     "metadata": {},
     "output_type": "execute_result"
    }
   ],
   "source": [
    "GB_feat_imp.index.values[0:15]"
   ]
  },
  {
   "cell_type": "code",
   "execution_count": 46,
   "metadata": {},
   "outputs": [
    {
     "data": {
      "text/html": [
       "<div>\n",
       "<style scoped>\n",
       "    .dataframe tbody tr th:only-of-type {\n",
       "        vertical-align: middle;\n",
       "    }\n",
       "\n",
       "    .dataframe tbody tr th {\n",
       "        vertical-align: top;\n",
       "    }\n",
       "\n",
       "    .dataframe thead th {\n",
       "        text-align: right;\n",
       "    }\n",
       "</style>\n",
       "<table border=\"1\" class=\"dataframe\">\n",
       "  <thead>\n",
       "    <tr style=\"text-align: right;\">\n",
       "      <th></th>\n",
       "      <th>Train</th>\n",
       "      <th>Test</th>\n",
       "    </tr>\n",
       "  </thead>\n",
       "  <tbody>\n",
       "    <tr>\n",
       "      <th>0</th>\n",
       "      <td>0.689052</td>\n",
       "      <td>0.690952</td>\n",
       "    </tr>\n",
       "    <tr>\n",
       "      <th>1</th>\n",
       "      <td>0.788707</td>\n",
       "      <td>0.875421</td>\n",
       "    </tr>\n",
       "    <tr>\n",
       "      <th>2</th>\n",
       "      <td>0.837156</td>\n",
       "      <td>0.915586</td>\n",
       "    </tr>\n",
       "    <tr>\n",
       "      <th>3</th>\n",
       "      <td>0.840413</td>\n",
       "      <td>0.908587</td>\n",
       "    </tr>\n",
       "    <tr>\n",
       "      <th>4</th>\n",
       "      <td>0.850765</td>\n",
       "      <td>0.924580</td>\n",
       "    </tr>\n",
       "    <tr>\n",
       "      <th>5</th>\n",
       "      <td>0.853230</td>\n",
       "      <td>0.938807</td>\n",
       "    </tr>\n",
       "    <tr>\n",
       "      <th>6</th>\n",
       "      <td>0.870775</td>\n",
       "      <td>0.947512</td>\n",
       "    </tr>\n",
       "    <tr>\n",
       "      <th>7</th>\n",
       "      <td>0.890669</td>\n",
       "      <td>0.950628</td>\n",
       "    </tr>\n",
       "    <tr>\n",
       "      <th>8</th>\n",
       "      <td>0.885198</td>\n",
       "      <td>0.947749</td>\n",
       "    </tr>\n",
       "    <tr>\n",
       "      <th>9</th>\n",
       "      <td>0.895667</td>\n",
       "      <td>0.960414</td>\n",
       "    </tr>\n",
       "    <tr>\n",
       "      <th>10</th>\n",
       "      <td>0.894973</td>\n",
       "      <td>0.956044</td>\n",
       "    </tr>\n",
       "    <tr>\n",
       "      <th>11</th>\n",
       "      <td>0.895770</td>\n",
       "      <td>0.964975</td>\n",
       "    </tr>\n",
       "    <tr>\n",
       "      <th>12</th>\n",
       "      <td>0.900642</td>\n",
       "      <td>0.957443</td>\n",
       "    </tr>\n",
       "    <tr>\n",
       "      <th>13</th>\n",
       "      <td>0.896145</td>\n",
       "      <td>0.964154</td>\n",
       "    </tr>\n",
       "    <tr>\n",
       "      <th>14</th>\n",
       "      <td>0.895305</td>\n",
       "      <td>0.969833</td>\n",
       "    </tr>\n",
       "  </tbody>\n",
       "</table>\n",
       "</div>"
      ],
      "text/plain": [
       "       Train      Test\n",
       "0   0.689052  0.690952\n",
       "1   0.788707  0.875421\n",
       "2   0.837156  0.915586\n",
       "3   0.840413  0.908587\n",
       "4   0.850765  0.924580\n",
       "5   0.853230  0.938807\n",
       "6   0.870775  0.947512\n",
       "7   0.890669  0.950628\n",
       "8   0.885198  0.947749\n",
       "9   0.895667  0.960414\n",
       "10  0.894973  0.956044\n",
       "11  0.895770  0.964975\n",
       "12  0.900642  0.957443\n",
       "13  0.896145  0.964154\n",
       "14  0.895305  0.969833"
      ]
     },
     "execution_count": 46,
     "metadata": {},
     "output_type": "execute_result"
    }
   ],
   "source": [
    "GB_feat_imp = pd.Series(GB_Test.feature_importances_, x_train.columns).sort_values(ascending = False)\n",
    "GB_feat_imp.index.values[0:15]\n",
    "select = []\n",
    "results2 = []\n",
    "type(select)\n",
    "for l in GB_feat_imp.index.values[0:15]:\n",
    "    select.append(l)\n",
    "    select_feats = dfpp[select] # Selecting feats from dummified dataset\n",
    "    x_train2, x_test2, y_train2, y_test2 = train_test_split(select_feats, housing['SalePrice'], test_size=0.4, random_state=0)\n",
    "#     print(select_feats.columns)\n",
    "    GB_Train2 = gbCV.fit(x_train2,y_train2)\n",
    "    results2 = np.append(results2, GB_Train2.best_score_)\n",
    "    GB_Test2 = GB(**GB_Train2.best_params_).fit(x_test2,y_test2)\n",
    "    results2 = np.append(results2,GB_Test2.score(x_test2,y_test2))\n",
    "    # ------------------------------------------Saving results------------------------------------------------------------\n",
    "    # Reshaping the array from [n,] to [n/2 ; 2]. \n",
    "    results_reshape2 = results2.reshape(int(results2.shape[0]/2),2)\n",
    "    resultsDF2 = pd.DataFrame(data = results_reshape2, columns = ['Train','Test'])\n",
    "speak('DONE')\n",
    "resultsDF2    "
   ]
  },
  {
   "cell_type": "code",
   "execution_count": 79,
   "metadata": {},
   "outputs": [
    {
     "data": {
      "text/plain": [
       "<matplotlib.legend.Legend at 0x1629cc4ea30>"
      ]
     },
     "execution_count": 79,
     "metadata": {},
     "output_type": "execute_result"
    },
    {
     "data": {
      "image/png": "[encoded data removed]",
      "text/plain": [
       "<Figure size 432x288 with 1 Axes>"
      ]
     },
     "metadata": {
      "needs_background": "light"
     },
     "output_type": "display_data"
    }
   ],
   "source": [
    "resultsDF2.iloc[:,1]\n",
    "# unpacks the plot into a fig and ax container. \n",
    "# Fig continas the plot which you can save as a picture\n",
    "# ax contains the important stuff, like the axes, legend, type of plot, etc...\n",
    "fig2, ax2 = plt.subplots()  \n",
    "p1 = ax2.plot(resultsDF2.index, resultsDF2.iloc[:,0], label = 'Train') # create a simple scatter\n",
    "p2 = ax2.plot(resultsDF2.index, resultsDF2.iloc[:,1], label = 'Test') # create a simple scatter\n",
    "p3 = ax2.plot(np.array(ax2.get_xlim()), [0.9887,0.9887], label = 'Target') # plot horizontal line\n",
    "ax2.set_xlabel('# of Features')\n",
    "ax2.set_ylabel('R^2')\n",
    "ax2.set_title('GB w/ incres. # of features')\n",
    "ax2.legend() # Displays the legend"
   ]
  },
  {
   "cell_type": "code",
   "execution_count": null,
   "metadata": {},
   "outputs": [],
   "source": []
  }
 ],
 "metadata": {
  "kernelspec": {
   "display_name": "Python 3 (ipykernel)",
   "language": "python",
   "name": "python3"
  },
  "language_info": {
   "codemirror_mode": {
    "name": "ipython",
    "version": 3
   },
   "file_extension": ".py",
   "mimetype": "text/x-python",
   "name": "python",
   "nbconvert_exporter": "python",
   "pygments_lexer": "ipython3",
   "version": "3.9.7"
  }
 },
 "nbformat": 4,
 "nbformat_minor": 2
}
